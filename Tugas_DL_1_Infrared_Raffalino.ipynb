{
  "nbformat": 4,
  "nbformat_minor": 0,
  "metadata": {
    "colab": {
      "provenance": [],
      "authorship_tag": "ABX9TyPCMtHqhFGGynIZT+qavjzM",
      "include_colab_link": true
    },
    "kernelspec": {
      "name": "python3",
      "display_name": "Python 3"
    },
    "language_info": {
      "name": "python"
    }
  },
  "cells": [
    {
      "cell_type": "markdown",
      "metadata": {
        "id": "view-in-github",
        "colab_type": "text"
      },
      "source": [
        "<a href=\"https://colab.research.google.com/github/djiraffs/Deep-Learning/blob/main/Tugas_DL_1_Infrared_Raffalino.ipynb\" target=\"_parent\"><img src=\"https://colab.research.google.com/assets/colab-badge.svg\" alt=\"Open In Colab\"/></a>"
      ]
    },
    {
      "cell_type": "markdown",
      "source": [
        "**Membuat Data cleaning dan converting **\n",
        "\n",
        "> Add blockquote\n",
        "\n"
      ],
      "metadata": {
        "id": "TkYEMzA1rwV9"
      }
    },
    {
      "cell_type": "code",
      "execution_count": 6,
      "metadata": {
        "colab": {
          "base_uri": "https://localhost:8080/",
          "height": 377
        },
        "id": "G77ssLjjribv",
        "outputId": "dba6a144-f894-43bb-b8a7-31a7a64dc00b"
      },
      "outputs": [
        {
          "output_type": "execute_result",
          "data": {
            "text/plain": [
              "   Gender    Age                  Ethnicity  T_atm  Humidity  Distance  \\\n",
              "0    Male  41-50                      White   24.0      28.0       0.8   \n",
              "1  Female  31-40  Black or African-American   24.0      26.0       0.8   \n",
              "2  Female  21-30                      White   24.0      26.0       0.8   \n",
              "3  Female  21-30  Black or African-American   24.0      27.0       0.8   \n",
              "4    Male  18-20                      White   24.0      27.0       0.8   \n",
              "\n",
              "   T_offset1  Max1R13_1  Max1L13_1  aveAllR13_1  ...  T_FHRC1  T_FHLC1  \\\n",
              "0     0.7025    35.0300    35.3775      34.4000  ...  33.4775  33.3725   \n",
              "1     0.7800    34.5500    34.5200      33.9300  ...  34.0550  33.6775   \n",
              "2     0.8625    35.6525    35.5175      34.2775  ...  34.8275  34.6475   \n",
              "3     0.9300    35.2225    35.6125      34.3850  ...  34.4225  34.6550   \n",
              "4     0.8950    35.5450    35.6650      34.9100  ...  35.1600  34.3975   \n",
              "\n",
              "   T_FHBC1  T_FHTC1  T_FH_Max1  T_FHC_Max1   T_Max1    T_OR1  T_OR_Max1  \\\n",
              "0  33.4925  33.0025    34.5300     34.0075  35.6925  35.6350    35.6525   \n",
              "1  33.9700  34.0025    34.6825     34.6600  35.1750  35.0925    35.1075   \n",
              "2  34.8200  34.6700    35.3450     35.2225  35.9125  35.8600    35.8850   \n",
              "3  34.3025  34.9175    35.6025     35.3150  35.7200  34.9650    34.9825   \n",
              "4  34.6700  33.8275    35.4175     35.3725  35.8950  35.5875    35.6175   \n",
              "\n",
              "   aveOralM  \n",
              "0     36.59  \n",
              "1     37.19  \n",
              "2     37.34  \n",
              "3     37.09  \n",
              "4     37.04  \n",
              "\n",
              "[5 rows x 34 columns]"
            ],
            "text/html": [
              "\n",
              "  <div id=\"df-94ecdc64-70f8-439f-bec2-2ea2b2192730\" class=\"colab-df-container\">\n",
              "    <div>\n",
              "<style scoped>\n",
              "    .dataframe tbody tr th:only-of-type {\n",
              "        vertical-align: middle;\n",
              "    }\n",
              "\n",
              "    .dataframe tbody tr th {\n",
              "        vertical-align: top;\n",
              "    }\n",
              "\n",
              "    .dataframe thead th {\n",
              "        text-align: right;\n",
              "    }\n",
              "</style>\n",
              "<table border=\"1\" class=\"dataframe\">\n",
              "  <thead>\n",
              "    <tr style=\"text-align: right;\">\n",
              "      <th></th>\n",
              "      <th>Gender</th>\n",
              "      <th>Age</th>\n",
              "      <th>Ethnicity</th>\n",
              "      <th>T_atm</th>\n",
              "      <th>Humidity</th>\n",
              "      <th>Distance</th>\n",
              "      <th>T_offset1</th>\n",
              "      <th>Max1R13_1</th>\n",
              "      <th>Max1L13_1</th>\n",
              "      <th>aveAllR13_1</th>\n",
              "      <th>...</th>\n",
              "      <th>T_FHRC1</th>\n",
              "      <th>T_FHLC1</th>\n",
              "      <th>T_FHBC1</th>\n",
              "      <th>T_FHTC1</th>\n",
              "      <th>T_FH_Max1</th>\n",
              "      <th>T_FHC_Max1</th>\n",
              "      <th>T_Max1</th>\n",
              "      <th>T_OR1</th>\n",
              "      <th>T_OR_Max1</th>\n",
              "      <th>aveOralM</th>\n",
              "    </tr>\n",
              "  </thead>\n",
              "  <tbody>\n",
              "    <tr>\n",
              "      <th>0</th>\n",
              "      <td>Male</td>\n",
              "      <td>41-50</td>\n",
              "      <td>White</td>\n",
              "      <td>24.0</td>\n",
              "      <td>28.0</td>\n",
              "      <td>0.8</td>\n",
              "      <td>0.7025</td>\n",
              "      <td>35.0300</td>\n",
              "      <td>35.3775</td>\n",
              "      <td>34.4000</td>\n",
              "      <td>...</td>\n",
              "      <td>33.4775</td>\n",
              "      <td>33.3725</td>\n",
              "      <td>33.4925</td>\n",
              "      <td>33.0025</td>\n",
              "      <td>34.5300</td>\n",
              "      <td>34.0075</td>\n",
              "      <td>35.6925</td>\n",
              "      <td>35.6350</td>\n",
              "      <td>35.6525</td>\n",
              "      <td>36.59</td>\n",
              "    </tr>\n",
              "    <tr>\n",
              "      <th>1</th>\n",
              "      <td>Female</td>\n",
              "      <td>31-40</td>\n",
              "      <td>Black or African-American</td>\n",
              "      <td>24.0</td>\n",
              "      <td>26.0</td>\n",
              "      <td>0.8</td>\n",
              "      <td>0.7800</td>\n",
              "      <td>34.5500</td>\n",
              "      <td>34.5200</td>\n",
              "      <td>33.9300</td>\n",
              "      <td>...</td>\n",
              "      <td>34.0550</td>\n",
              "      <td>33.6775</td>\n",
              "      <td>33.9700</td>\n",
              "      <td>34.0025</td>\n",
              "      <td>34.6825</td>\n",
              "      <td>34.6600</td>\n",
              "      <td>35.1750</td>\n",
              "      <td>35.0925</td>\n",
              "      <td>35.1075</td>\n",
              "      <td>37.19</td>\n",
              "    </tr>\n",
              "    <tr>\n",
              "      <th>2</th>\n",
              "      <td>Female</td>\n",
              "      <td>21-30</td>\n",
              "      <td>White</td>\n",
              "      <td>24.0</td>\n",
              "      <td>26.0</td>\n",
              "      <td>0.8</td>\n",
              "      <td>0.8625</td>\n",
              "      <td>35.6525</td>\n",
              "      <td>35.5175</td>\n",
              "      <td>34.2775</td>\n",
              "      <td>...</td>\n",
              "      <td>34.8275</td>\n",
              "      <td>34.6475</td>\n",
              "      <td>34.8200</td>\n",
              "      <td>34.6700</td>\n",
              "      <td>35.3450</td>\n",
              "      <td>35.2225</td>\n",
              "      <td>35.9125</td>\n",
              "      <td>35.8600</td>\n",
              "      <td>35.8850</td>\n",
              "      <td>37.34</td>\n",
              "    </tr>\n",
              "    <tr>\n",
              "      <th>3</th>\n",
              "      <td>Female</td>\n",
              "      <td>21-30</td>\n",
              "      <td>Black or African-American</td>\n",
              "      <td>24.0</td>\n",
              "      <td>27.0</td>\n",
              "      <td>0.8</td>\n",
              "      <td>0.9300</td>\n",
              "      <td>35.2225</td>\n",
              "      <td>35.6125</td>\n",
              "      <td>34.3850</td>\n",
              "      <td>...</td>\n",
              "      <td>34.4225</td>\n",
              "      <td>34.6550</td>\n",
              "      <td>34.3025</td>\n",
              "      <td>34.9175</td>\n",
              "      <td>35.6025</td>\n",
              "      <td>35.3150</td>\n",
              "      <td>35.7200</td>\n",
              "      <td>34.9650</td>\n",
              "      <td>34.9825</td>\n",
              "      <td>37.09</td>\n",
              "    </tr>\n",
              "    <tr>\n",
              "      <th>4</th>\n",
              "      <td>Male</td>\n",
              "      <td>18-20</td>\n",
              "      <td>White</td>\n",
              "      <td>24.0</td>\n",
              "      <td>27.0</td>\n",
              "      <td>0.8</td>\n",
              "      <td>0.8950</td>\n",
              "      <td>35.5450</td>\n",
              "      <td>35.6650</td>\n",
              "      <td>34.9100</td>\n",
              "      <td>...</td>\n",
              "      <td>35.1600</td>\n",
              "      <td>34.3975</td>\n",
              "      <td>34.6700</td>\n",
              "      <td>33.8275</td>\n",
              "      <td>35.4175</td>\n",
              "      <td>35.3725</td>\n",
              "      <td>35.8950</td>\n",
              "      <td>35.5875</td>\n",
              "      <td>35.6175</td>\n",
              "      <td>37.04</td>\n",
              "    </tr>\n",
              "  </tbody>\n",
              "</table>\n",
              "<p>5 rows × 34 columns</p>\n",
              "</div>\n",
              "    <div class=\"colab-df-buttons\">\n",
              "\n",
              "  <div class=\"colab-df-container\">\n",
              "    <button class=\"colab-df-convert\" onclick=\"convertToInteractive('df-94ecdc64-70f8-439f-bec2-2ea2b2192730')\"\n",
              "            title=\"Convert this dataframe to an interactive table.\"\n",
              "            style=\"display:none;\">\n",
              "\n",
              "  <svg xmlns=\"http://www.w3.org/2000/svg\" height=\"24px\" viewBox=\"0 -960 960 960\">\n",
              "    <path d=\"M120-120v-720h720v720H120Zm60-500h600v-160H180v160Zm220 220h160v-160H400v160Zm0 220h160v-160H400v160ZM180-400h160v-160H180v160Zm440 0h160v-160H620v160ZM180-180h160v-160H180v160Zm440 0h160v-160H620v160Z\"/>\n",
              "  </svg>\n",
              "    </button>\n",
              "\n",
              "  <style>\n",
              "    .colab-df-container {\n",
              "      display:flex;\n",
              "      gap: 12px;\n",
              "    }\n",
              "\n",
              "    .colab-df-convert {\n",
              "      background-color: #E8F0FE;\n",
              "      border: none;\n",
              "      border-radius: 50%;\n",
              "      cursor: pointer;\n",
              "      display: none;\n",
              "      fill: #1967D2;\n",
              "      height: 32px;\n",
              "      padding: 0 0 0 0;\n",
              "      width: 32px;\n",
              "    }\n",
              "\n",
              "    .colab-df-convert:hover {\n",
              "      background-color: #E2EBFA;\n",
              "      box-shadow: 0px 1px 2px rgba(60, 64, 67, 0.3), 0px 1px 3px 1px rgba(60, 64, 67, 0.15);\n",
              "      fill: #174EA6;\n",
              "    }\n",
              "\n",
              "    .colab-df-buttons div {\n",
              "      margin-bottom: 4px;\n",
              "    }\n",
              "\n",
              "    [theme=dark] .colab-df-convert {\n",
              "      background-color: #3B4455;\n",
              "      fill: #D2E3FC;\n",
              "    }\n",
              "\n",
              "    [theme=dark] .colab-df-convert:hover {\n",
              "      background-color: #434B5C;\n",
              "      box-shadow: 0px 1px 3px 1px rgba(0, 0, 0, 0.15);\n",
              "      filter: drop-shadow(0px 1px 2px rgba(0, 0, 0, 0.3));\n",
              "      fill: #FFFFFF;\n",
              "    }\n",
              "  </style>\n",
              "\n",
              "    <script>\n",
              "      const buttonEl =\n",
              "        document.querySelector('#df-94ecdc64-70f8-439f-bec2-2ea2b2192730 button.colab-df-convert');\n",
              "      buttonEl.style.display =\n",
              "        google.colab.kernel.accessAllowed ? 'block' : 'none';\n",
              "\n",
              "      async function convertToInteractive(key) {\n",
              "        const element = document.querySelector('#df-94ecdc64-70f8-439f-bec2-2ea2b2192730');\n",
              "        const dataTable =\n",
              "          await google.colab.kernel.invokeFunction('convertToInteractive',\n",
              "                                                    [key], {});\n",
              "        if (!dataTable) return;\n",
              "\n",
              "        const docLinkHtml = 'Like what you see? Visit the ' +\n",
              "          '<a target=\"_blank\" href=https://colab.research.google.com/notebooks/data_table.ipynb>data table notebook</a>'\n",
              "          + ' to learn more about interactive tables.';\n",
              "        element.innerHTML = '';\n",
              "        dataTable['output_type'] = 'display_data';\n",
              "        await google.colab.output.renderOutput(dataTable, element);\n",
              "        const docLink = document.createElement('div');\n",
              "        docLink.innerHTML = docLinkHtml;\n",
              "        element.appendChild(docLink);\n",
              "      }\n",
              "    </script>\n",
              "  </div>\n",
              "\n",
              "\n",
              "<div id=\"df-96ae79ed-c3bd-40e0-964f-155efe7e275b\">\n",
              "  <button class=\"colab-df-quickchart\" onclick=\"quickchart('df-96ae79ed-c3bd-40e0-964f-155efe7e275b')\"\n",
              "            title=\"Suggest charts\"\n",
              "            style=\"display:none;\">\n",
              "\n",
              "<svg xmlns=\"http://www.w3.org/2000/svg\" height=\"24px\"viewBox=\"0 0 24 24\"\n",
              "     width=\"24px\">\n",
              "    <g>\n",
              "        <path d=\"M19 3H5c-1.1 0-2 .9-2 2v14c0 1.1.9 2 2 2h14c1.1 0 2-.9 2-2V5c0-1.1-.9-2-2-2zM9 17H7v-7h2v7zm4 0h-2V7h2v10zm4 0h-2v-4h2v4z\"/>\n",
              "    </g>\n",
              "</svg>\n",
              "  </button>\n",
              "\n",
              "<style>\n",
              "  .colab-df-quickchart {\n",
              "      --bg-color: #E8F0FE;\n",
              "      --fill-color: #1967D2;\n",
              "      --hover-bg-color: #E2EBFA;\n",
              "      --hover-fill-color: #174EA6;\n",
              "      --disabled-fill-color: #AAA;\n",
              "      --disabled-bg-color: #DDD;\n",
              "  }\n",
              "\n",
              "  [theme=dark] .colab-df-quickchart {\n",
              "      --bg-color: #3B4455;\n",
              "      --fill-color: #D2E3FC;\n",
              "      --hover-bg-color: #434B5C;\n",
              "      --hover-fill-color: #FFFFFF;\n",
              "      --disabled-bg-color: #3B4455;\n",
              "      --disabled-fill-color: #666;\n",
              "  }\n",
              "\n",
              "  .colab-df-quickchart {\n",
              "    background-color: var(--bg-color);\n",
              "    border: none;\n",
              "    border-radius: 50%;\n",
              "    cursor: pointer;\n",
              "    display: none;\n",
              "    fill: var(--fill-color);\n",
              "    height: 32px;\n",
              "    padding: 0;\n",
              "    width: 32px;\n",
              "  }\n",
              "\n",
              "  .colab-df-quickchart:hover {\n",
              "    background-color: var(--hover-bg-color);\n",
              "    box-shadow: 0 1px 2px rgba(60, 64, 67, 0.3), 0 1px 3px 1px rgba(60, 64, 67, 0.15);\n",
              "    fill: var(--button-hover-fill-color);\n",
              "  }\n",
              "\n",
              "  .colab-df-quickchart-complete:disabled,\n",
              "  .colab-df-quickchart-complete:disabled:hover {\n",
              "    background-color: var(--disabled-bg-color);\n",
              "    fill: var(--disabled-fill-color);\n",
              "    box-shadow: none;\n",
              "  }\n",
              "\n",
              "  .colab-df-spinner {\n",
              "    border: 2px solid var(--fill-color);\n",
              "    border-color: transparent;\n",
              "    border-bottom-color: var(--fill-color);\n",
              "    animation:\n",
              "      spin 1s steps(1) infinite;\n",
              "  }\n",
              "\n",
              "  @keyframes spin {\n",
              "    0% {\n",
              "      border-color: transparent;\n",
              "      border-bottom-color: var(--fill-color);\n",
              "      border-left-color: var(--fill-color);\n",
              "    }\n",
              "    20% {\n",
              "      border-color: transparent;\n",
              "      border-left-color: var(--fill-color);\n",
              "      border-top-color: var(--fill-color);\n",
              "    }\n",
              "    30% {\n",
              "      border-color: transparent;\n",
              "      border-left-color: var(--fill-color);\n",
              "      border-top-color: var(--fill-color);\n",
              "      border-right-color: var(--fill-color);\n",
              "    }\n",
              "    40% {\n",
              "      border-color: transparent;\n",
              "      border-right-color: var(--fill-color);\n",
              "      border-top-color: var(--fill-color);\n",
              "    }\n",
              "    60% {\n",
              "      border-color: transparent;\n",
              "      border-right-color: var(--fill-color);\n",
              "    }\n",
              "    80% {\n",
              "      border-color: transparent;\n",
              "      border-right-color: var(--fill-color);\n",
              "      border-bottom-color: var(--fill-color);\n",
              "    }\n",
              "    90% {\n",
              "      border-color: transparent;\n",
              "      border-bottom-color: var(--fill-color);\n",
              "    }\n",
              "  }\n",
              "</style>\n",
              "\n",
              "  <script>\n",
              "    async function quickchart(key) {\n",
              "      const quickchartButtonEl =\n",
              "        document.querySelector('#' + key + ' button');\n",
              "      quickchartButtonEl.disabled = true;  // To prevent multiple clicks.\n",
              "      quickchartButtonEl.classList.add('colab-df-spinner');\n",
              "      try {\n",
              "        const charts = await google.colab.kernel.invokeFunction(\n",
              "            'suggestCharts', [key], {});\n",
              "      } catch (error) {\n",
              "        console.error('Error during call to suggestCharts:', error);\n",
              "      }\n",
              "      quickchartButtonEl.classList.remove('colab-df-spinner');\n",
              "      quickchartButtonEl.classList.add('colab-df-quickchart-complete');\n",
              "    }\n",
              "    (() => {\n",
              "      let quickchartButtonEl =\n",
              "        document.querySelector('#df-96ae79ed-c3bd-40e0-964f-155efe7e275b button');\n",
              "      quickchartButtonEl.style.display =\n",
              "        google.colab.kernel.accessAllowed ? 'block' : 'none';\n",
              "    })();\n",
              "  </script>\n",
              "</div>\n",
              "\n",
              "    </div>\n",
              "  </div>\n"
            ],
            "application/vnd.google.colaboratory.intrinsic+json": {
              "type": "dataframe",
              "variable_name": "data"
            }
          },
          "metadata": {},
          "execution_count": 6
        }
      ],
      "source": [
        "import tensorflow as tf\n",
        "from sklearn.metrics import mean_squared_error, r2_score\n",
        "import pandas as pd\n",
        "from sklearn.model_selection import train_test_split\n",
        "from sklearn.preprocessing import OneHotEncoder, StandardScaler\n",
        "import torch\n",
        "import torch.nn as nn\n",
        "import torch.optim as optim\n",
        "import numpy as np\n",
        "import matplotlib.pyplot as plt\n",
        "from sklearn.metrics import mean_squared_error, r2_score\n",
        "from sklearn.impute import SimpleImputer\n",
        "import tensorflow as tf\n",
        "from tensorflow import keras\n",
        "from tensorflow.keras import layers\n",
        "\n",
        "# Load the dataset\n",
        "file_path = '/content/Infrared.csv'\n",
        "data = pd.read_csv(file_path)\n",
        "\n",
        "# Display the first few rows to understand its structure\n",
        "data.head()\n"
      ]
    },
    {
      "cell_type": "code",
      "source": [
        "data = data.dropna()"
      ],
      "metadata": {
        "id": "EbcBRmrFtg6V"
      },
      "execution_count": 14,
      "outputs": []
    },
    {
      "cell_type": "code",
      "source": [
        "categorical_columns = [\"Gender\", \"Age\", \"Ethnicity\"]\n",
        "numerical_columns = list(set(data.columns) - set(categorical_columns) - {\"aveOralM\"})"
      ],
      "metadata": {
        "id": "MPqOH7BFuhOv"
      },
      "execution_count": 15,
      "outputs": []
    },
    {
      "cell_type": "code",
      "source": [
        "num_imputer = SimpleImputer(strategy='median')\n",
        "cat_imputer = SimpleImputer(strategy='most_frequent')\n",
        "data[categorical_columns] = cat_imputer.fit_transform(data[categorical_columns])\n",
        "data[numerical_columns] = num_imputer.fit_transform(data[numerical_columns])"
      ],
      "metadata": {
        "id": "hJnPVYfRuj22"
      },
      "execution_count": 16,
      "outputs": []
    },
    {
      "cell_type": "code",
      "source": [
        "encoder = OneHotEncoder(drop='first', sparse_output=False)\n",
        "categorical_data = encoder.fit_transform(data[categorical_columns])\n",
        "categorical_df = pd.DataFrame(categorical_data, columns=encoder.get_feature_names_out(categorical_columns))\n"
      ],
      "metadata": {
        "id": "NEcRkkIvurYZ"
      },
      "execution_count": 17,
      "outputs": []
    },
    {
      "cell_type": "code",
      "source": [
        "scaler_X = StandardScaler()\n",
        "numerical_data = scaler_X.fit_transform(data[numerical_columns])\n",
        "numerical_df = pd.DataFrame(numerical_data, columns=numerical_columns)"
      ],
      "metadata": {
        "id": "1UWvDuUkux0U"
      },
      "execution_count": 18,
      "outputs": []
    },
    {
      "cell_type": "code",
      "source": [
        "scaler_y = StandardScaler()\n",
        "target = scaler_y.fit_transform(data[[\"aveOralM\"]]).flatten()"
      ],
      "metadata": {
        "id": "XYlFAdwgu1Af"
      },
      "execution_count": 19,
      "outputs": []
    },
    {
      "cell_type": "code",
      "source": [
        "features = pd.concat([numerical_df, categorical_df], axis=1)"
      ],
      "metadata": {
        "id": "0li6cNEqu22c"
      },
      "execution_count": 20,
      "outputs": []
    },
    {
      "cell_type": "code",
      "source": [
        "X_train, X_test, y_train, y_test = train_test_split(features, target, test_size=0.2, random_state=42)"
      ],
      "metadata": {
        "id": "j9d-bijRu3WW"
      },
      "execution_count": 21,
      "outputs": []
    },
    {
      "cell_type": "markdown",
      "source": [
        "Model deep learning Pytorch"
      ],
      "metadata": {
        "id": "uj0a7xSYu-W8"
      }
    },
    {
      "cell_type": "code",
      "source": [
        "X_train_torch = torch.tensor(X_train.values, dtype=torch.float32)\n",
        "X_test_torch = torch.tensor(X_test.values, dtype=torch.float32)\n",
        "y_train_torch = torch.tensor(y_train, dtype=torch.float32).view(-1, 1)\n",
        "y_test_torch = torch.tensor(y_test, dtype=torch.float32).view(-1, 1)"
      ],
      "metadata": {
        "id": "optCLMl7vBwB"
      },
      "execution_count": 22,
      "outputs": []
    },
    {
      "cell_type": "code",
      "source": [
        "class DeepLearningModel(nn.Module):\n",
        "    def __init__(self, input_dim):\n",
        "        super(DeepLearningModel, self).__init__()\n",
        "        self.fc1 = nn.Linear(input_dim, 64)\n",
        "        self.fc2 = nn.Linear(64, 32)\n",
        "        self.fc3 = nn.Linear(32, 1)\n",
        "\n",
        "    def forward(self, x):\n",
        "        x = torch.relu(self.fc1(x))\n",
        "        x = torch.relu(self.fc2(x))\n",
        "        x = self.fc3(x)\n",
        "        return x\n",
        "\n",
        "# Initialize the model, loss function, and optimizer\n",
        "model = DeepLearningModel(input_dim=X_train.shape[1])\n",
        "criterion = nn.MSELoss()\n",
        "optimizer = optim.Adam(model.parameters(), lr=0.001)"
      ],
      "metadata": {
        "id": "wGer33ASvFEa"
      },
      "execution_count": 23,
      "outputs": []
    },
    {
      "cell_type": "markdown",
      "source": [
        "Mentraining Model"
      ],
      "metadata": {
        "id": "JMF_eooOvOF8"
      }
    },
    {
      "cell_type": "code",
      "source": [
        "epochs = 100\n",
        "train_losses = []\n",
        "\n",
        "for epoch in range(epochs):\n",
        "    model.train()\n",
        "    optimizer.zero_grad()\n",
        "    # Forward pass\n",
        "    y_pred = model(X_train_torch)\n",
        "    loss = criterion(y_pred, y_train_torch)\n",
        "    train_losses.append(loss.item())\n",
        "    # Backward pass\n",
        "    loss.backward()\n",
        "    optimizer.step()\n",
        "\n",
        "    if (epoch+1) % 50 == 0:\n",
        "        print(f\"Epoch [{epoch+1}/{epochs}], Loss: {loss.item():.4f}\")"
      ],
      "metadata": {
        "colab": {
          "base_uri": "https://localhost:8080/"
        },
        "id": "AwlDcgXQvRHC",
        "outputId": "66b863f0-abbe-4630-dc45-800afc892fac"
      },
      "execution_count": 24,
      "outputs": [
        {
          "output_type": "stream",
          "name": "stdout",
          "text": [
            "Epoch [50/100], Loss: 0.2597\n",
            "Epoch [100/100], Loss: 0.1939\n"
          ]
        }
      ]
    },
    {
      "cell_type": "code",
      "source": [
        "model.eval()\n",
        "with torch.no_grad():\n",
        "    y_pred_test = model(X_test_torch)"
      ],
      "metadata": {
        "id": "mhI96pvevUpG"
      },
      "execution_count": 25,
      "outputs": []
    },
    {
      "cell_type": "code",
      "source": [
        "y_pred_test_np = y_pred_test.numpy()\n",
        "y_test_np = y_test_torch.numpy()\n",
        "\n",
        "mse = mean_squared_error(y_test_np, y_pred_test_np)\n",
        "rmse = np.sqrt(mse)\n",
        "r2 = r2_score(y_test_np, y_pred_test_np)"
      ],
      "metadata": {
        "id": "69i6HuXtvWff"
      },
      "execution_count": 26,
      "outputs": []
    },
    {
      "cell_type": "code",
      "source": [
        "print(f\"RMSE: {rmse:.4f}\")\n",
        "print(f\"MSE: {mse:.4f}\")\n",
        "print(f\"R^2: {r2:.4f}\")"
      ],
      "metadata": {
        "colab": {
          "base_uri": "https://localhost:8080/"
        },
        "id": "ndWSeNwMvYXD",
        "outputId": "4a37a6fc-03a7-48de-99a9-f8f4d7dc486b"
      },
      "execution_count": 27,
      "outputs": [
        {
          "output_type": "stream",
          "name": "stdout",
          "text": [
            "RMSE: 0.4831\n",
            "MSE: 0.2334\n",
            "R^2: 0.6955\n"
          ]
        }
      ]
    },
    {
      "cell_type": "code",
      "source": [
        "plt.figure(figsize=(8, 6))\n",
        "plt.scatter(y_test_np, y_pred_test_np, color='purple', alpha=0.4)\n",
        "plt.plot([y_test_np.min(), y_test_np.max()], [y_test_np.min(), y_test_np.max()], color='red', linestyle='--')\n",
        "plt.xlabel('Actual values')\n",
        "plt.ylabel('Predicted values')\n",
        "plt.title('Predicted vs Actual values')\n",
        "plt.show()"
      ],
      "metadata": {
        "colab": {
          "base_uri": "https://localhost:8080/",
          "height": 564
        },
        "id": "OrePWzHFvccy",
        "outputId": "a5f4d869-36e2-4390-db58-6dc9a576b5ed"
      },
      "execution_count": 28,
      "outputs": [
        {
          "output_type": "display_data",
          "data": {
            "text/plain": [
              "<Figure size 800x600 with 1 Axes>"
            ],
            "image/png": "[encoded data removed]"
          },
          "metadata": {}
        }
      ]
    },
    {
      "cell_type": "markdown",
      "source": [
        "**Deep Learning menggunakan Tensor FLow**"
      ],
      "metadata": {
        "id": "ZpuA6a9cvoHG"
      }
    },
    {
      "cell_type": "markdown",
      "source": [
        "Membangun Model"
      ],
      "metadata": {
        "id": "uN0UXhzdvvgM"
      }
    },
    {
      "cell_type": "code",
      "source": [
        "model = keras.Sequential([\n",
        "    layers.Dense(64, input_dim=X_train.shape[1], activation='relu'),\n",
        "    layers.Dense(32, activation='relu'),\n",
        "    layers.Dense(1)  # Output layer\n",
        "])\n",
        "\n",
        "# Kompilasi model dengan loss function dan optimizer\n",
        "model.compile(optimizer='adam', loss='mse')"
      ],
      "metadata": {
        "colab": {
          "base_uri": "https://localhost:8080/"
        },
        "id": "Yec6Y4dMvxjS",
        "outputId": "aeb71830-01b8-47c1-970a-80152a57b324"
      },
      "execution_count": 29,
      "outputs": [
        {
          "output_type": "stream",
          "name": "stderr",
          "text": [
            "/usr/local/lib/python3.11/dist-packages/keras/src/layers/core/dense.py:87: UserWarning: Do not pass an `input_shape`/`input_dim` argument to a layer. When using Sequential models, prefer using an `Input(shape)` object as the first layer in the model instead.\n",
            "  super().__init__(activity_regularizer=activity_regularizer, **kwargs)\n"
          ]
        }
      ]
    },
    {
      "cell_type": "markdown",
      "source": [
        "Mentraining Model"
      ],
      "metadata": {
        "id": "o0SF_gJJv1MW"
      }
    },
    {
      "cell_type": "code",
      "source": [
        "epochs = 100\n",
        "history = model.fit(X_train, y_train, epochs=epochs, batch_size=32, validation_data=(X_test, y_test), verbose=0)"
      ],
      "metadata": {
        "id": "GBeCF2G-v3EC"
      },
      "execution_count": 31,
      "outputs": []
    },
    {
      "cell_type": "code",
      "source": [
        "#Evaluasi Akhir\n",
        "y_pred_test = model.predict(X_test)"
      ],
      "metadata": {
        "colab": {
          "base_uri": "https://localhost:8080/"
        },
        "id": "i2zl9Y87wHWS",
        "outputId": "b4ff67b7-c922-463a-ee49-a3d3669f9f38"
      },
      "execution_count": 32,
      "outputs": [
        {
          "output_type": "stream",
          "name": "stdout",
          "text": [
            "\u001b[1m7/7\u001b[0m \u001b[32m━━━━━━━━━━━━━━━━━━━━\u001b[0m\u001b[37m\u001b[0m \u001b[1m0s\u001b[0m 10ms/step\n"
          ]
        }
      ]
    },
    {
      "cell_type": "code",
      "source": [
        "mse = mean_squared_error(y_test, y_pred_test)\n",
        "rmse = np.sqrt(mse)\n",
        "r2 = r2_score(y_test, y_pred_test)"
      ],
      "metadata": {
        "id": "kSU0hhWDwMXs"
      },
      "execution_count": 33,
      "outputs": []
    },
    {
      "cell_type": "code",
      "source": [
        "print(f\"RMSE: {rmse:.4f}\")\n",
        "print(f\"MSE: {mse:.4f}\")\n",
        "print(f\"R^2: {r2:.4f}\")"
      ],
      "metadata": {
        "colab": {
          "base_uri": "https://localhost:8080/"
        },
        "id": "IEWYdOqcwNoI",
        "outputId": "fe14ac76-621a-4f63-ab74-76fe6a595712"
      },
      "execution_count": 34,
      "outputs": [
        {
          "output_type": "stream",
          "name": "stdout",
          "text": [
            "RMSE: 0.6077\n",
            "MSE: 0.3692\n",
            "R^2: 0.5181\n"
          ]
        }
      ]
    },
    {
      "cell_type": "code",
      "source": [
        "plt.figure(figsize=(8, 6))\n",
        "plt.scatter(y_test_torch.numpy(), y_pred_test, color='purple', alpha=0.5)\n",
        "plt.plot([y_test_torch.numpy().min(), y_test_torch.numpy().max()], [y_test_torch.numpy().min(), y_test_torch.numpy().max()], color='red', linestyle='--')\n",
        "plt.xlabel('Nilai Asli')\n",
        "plt.ylabel('Nilai Prediksi')\n",
        "plt.title('Nilai Prediksi vs Nilai Asli')\n",
        "plt.show()"
      ],
      "metadata": {
        "colab": {
          "base_uri": "https://localhost:8080/",
          "height": 564
        },
        "id": "XyWU7DvdwSR-",
        "outputId": "5f607080-f2cb-43c9-a6d8-c61d0585a109"
      },
      "execution_count": 35,
      "outputs": [
        {
          "output_type": "display_data",
          "data": {
            "text/plain": [
              "<Figure size 800x600 with 1 Axes>"
            ],
            "image/png": "[encoded data removed]"
          },
          "metadata": {}
        }
      ]
    }
  ]
}